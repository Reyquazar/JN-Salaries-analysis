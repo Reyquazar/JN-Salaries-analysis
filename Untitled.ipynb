{
 "cells": [
  {
   "cell_type": "code",
   "execution_count": 1,
   "id": "82136854",
   "metadata": {},
   "outputs": [],
   "source": [
    "import numpy as mp \n",
    "import pandas as pd\n",
    "import matplotlib.pyplot as plt\n",
    "import seaborn as sns"
   ]
  },
  {
   "cell_type": "code",
   "execution_count": 2,
   "outputs": [],
   "source": [
    "df = pd.read_csv('ds_salaries.csv')"
   ],
   "metadata": {
    "collapsed": false
   }
  },
  {
   "cell_type": "code",
   "execution_count": 14,
   "outputs": [
    {
     "data": {
      "text/plain": "array(['FT', 'CT', 'FL', 'PT'], dtype=object)"
     },
     "execution_count": 14,
     "metadata": {},
     "output_type": "execute_result"
    }
   ],
   "source": [
    "df['employment_type'].unique()\n",
    "#"
   ],
   "metadata": {
    "collapsed": false
   }
  },
  {
   "cell_type": "code",
   "execution_count": 4,
   "outputs": [
    {
     "name": "stdout",
     "output_type": "stream",
     "text": [
      "<class 'pandas.core.frame.DataFrame'>\n",
      "RangeIndex: 3755 entries, 0 to 3754\n",
      "Data columns (total 11 columns):\n",
      " #   Column              Non-Null Count  Dtype \n",
      "---  ------              --------------  ----- \n",
      " 0   work_year           3755 non-null   int64 \n",
      " 1   experience_level    3755 non-null   object\n",
      " 2   employment_type     3755 non-null   object\n",
      " 3   job_title           3755 non-null   object\n",
      " 4   salary              3755 non-null   int64 \n",
      " 5   salary_currency     3755 non-null   object\n",
      " 6   salary_in_usd       3755 non-null   int64 \n",
      " 7   employee_residence  3755 non-null   object\n",
      " 8   remote_ratio        3755 non-null   int64 \n",
      " 9   company_location    3755 non-null   object\n",
      " 10  company_size        3755 non-null   object\n",
      "dtypes: int64(4), object(7)\n",
      "memory usage: 322.8+ KB\n"
     ]
    }
   ],
   "source": [
    "df.info()"
   ],
   "metadata": {
    "collapsed": false
   }
  },
  {
   "cell_type": "code",
   "execution_count": 15,
   "outputs": [],
   "source": [
    "df['experience_level'] = df['experience_level'].replace({\n",
    "    'SE' : 'Senior',\n",
    "    'MI' : 'Middle',\n",
    "    'EN' : 'Junior',\n",
    "    'EX' : 'Executive'\n",
    "})\n",
    "\n",
    "df['company_size'] = df['company_size'].replace({\n",
    "    'L' : 'Large',\n",
    "    'S' : 'Small',\n",
    "    'M' : 'Medium',\n",
    "})\n",
    "\n",
    "df['employment_type'] = df['employment_type'].replace({\n",
    "    'FT' : 'Full time',\n",
    "    'CT' : 'Contractor',\n",
    "    'FL' : 'Freelancer',\n",
    "    'PT' : 'Part time'\n",
    "})"
   ],
   "metadata": {
    "collapsed": false
   }
  },
  {
   "cell_type": "code",
   "execution_count": 16,
   "outputs": [
    {
     "data": {
      "text/plain": "    work_year experience_level employment_type                  job_title   \n0        2023           Senior       Full time   Principal Data Scientist  \\\n1        2023           Middle      Contractor                ML Engineer   \n2        2023           Middle      Contractor                ML Engineer   \n3        2023           Senior       Full time             Data Scientist   \n4        2023           Senior       Full time             Data Scientist   \n..        ...              ...             ...                        ...   \n95       2023           Junior       Full time  Machine Learning Engineer   \n96       2023           Junior       Full time  Machine Learning Engineer   \n97       2023           Senior       Full time              Data Engineer   \n98       2023           Senior       Full time              Data Engineer   \n99       2023           Senior       Full time               Data Analyst   \n\n    salary salary_currency  salary_in_usd employee_residence  remote_ratio   \n0    80000             EUR          85847                 ES           100  \\\n1    30000             USD          30000                 US           100   \n2    25500             USD          25500                 US           100   \n3   175000             USD         175000                 CA           100   \n4   120000             USD         120000                 CA           100   \n..     ...             ...            ...                ...           ...   \n95  163196             USD         163196                 US             0   \n96  145885             USD         145885                 US             0   \n97  217000             USD         217000                 US           100   \n98  185000             USD         185000                 US           100   \n99  202800             USD         202800                 US             0   \n\n   company_location company_size  \n0                ES        Large  \n1                US        Small  \n2                US        Small  \n3                CA       Medium  \n4                CA       Medium  \n..              ...          ...  \n95               US       Medium  \n96               US       Medium  \n97               US       Medium  \n98               US       Medium  \n99               US        Large  \n\n[100 rows x 11 columns]",
      "text/html": "<div>\n<style scoped>\n    .dataframe tbody tr th:only-of-type {\n        vertical-align: middle;\n    }\n\n    .dataframe tbody tr th {\n        vertical-align: top;\n    }\n\n    .dataframe thead th {\n        text-align: right;\n    }\n</style>\n<table border=\"1\" class=\"dataframe\">\n  <thead>\n    <tr style=\"text-align: right;\">\n      <th></th>\n      <th>work_year</th>\n      <th>experience_level</th>\n      <th>employment_type</th>\n      <th>job_title</th>\n      <th>salary</th>\n      <th>salary_currency</th>\n      <th>salary_in_usd</th>\n      <th>employee_residence</th>\n      <th>remote_ratio</th>\n      <th>company_location</th>\n      <th>company_size</th>\n    </tr>\n  </thead>\n  <tbody>\n    <tr>\n      <th>0</th>\n      <td>2023</td>\n      <td>Senior</td>\n      <td>Full time</td>\n      <td>Principal Data Scientist</td>\n      <td>80000</td>\n      <td>EUR</td>\n      <td>85847</td>\n      <td>ES</td>\n      <td>100</td>\n      <td>ES</td>\n      <td>Large</td>\n    </tr>\n    <tr>\n      <th>1</th>\n      <td>2023</td>\n      <td>Middle</td>\n      <td>Contractor</td>\n      <td>ML Engineer</td>\n      <td>30000</td>\n      <td>USD</td>\n      <td>30000</td>\n      <td>US</td>\n      <td>100</td>\n      <td>US</td>\n      <td>Small</td>\n    </tr>\n    <tr>\n      <th>2</th>\n      <td>2023</td>\n      <td>Middle</td>\n      <td>Contractor</td>\n      <td>ML Engineer</td>\n      <td>25500</td>\n      <td>USD</td>\n      <td>25500</td>\n      <td>US</td>\n      <td>100</td>\n      <td>US</td>\n      <td>Small</td>\n    </tr>\n    <tr>\n      <th>3</th>\n      <td>2023</td>\n      <td>Senior</td>\n      <td>Full time</td>\n      <td>Data Scientist</td>\n      <td>175000</td>\n      <td>USD</td>\n      <td>175000</td>\n      <td>CA</td>\n      <td>100</td>\n      <td>CA</td>\n      <td>Medium</td>\n    </tr>\n    <tr>\n      <th>4</th>\n      <td>2023</td>\n      <td>Senior</td>\n      <td>Full time</td>\n      <td>Data Scientist</td>\n      <td>120000</td>\n      <td>USD</td>\n      <td>120000</td>\n      <td>CA</td>\n      <td>100</td>\n      <td>CA</td>\n      <td>Medium</td>\n    </tr>\n    <tr>\n      <th>...</th>\n      <td>...</td>\n      <td>...</td>\n      <td>...</td>\n      <td>...</td>\n      <td>...</td>\n      <td>...</td>\n      <td>...</td>\n      <td>...</td>\n      <td>...</td>\n      <td>...</td>\n      <td>...</td>\n    </tr>\n    <tr>\n      <th>95</th>\n      <td>2023</td>\n      <td>Junior</td>\n      <td>Full time</td>\n      <td>Machine Learning Engineer</td>\n      <td>163196</td>\n      <td>USD</td>\n      <td>163196</td>\n      <td>US</td>\n      <td>0</td>\n      <td>US</td>\n      <td>Medium</td>\n    </tr>\n    <tr>\n      <th>96</th>\n      <td>2023</td>\n      <td>Junior</td>\n      <td>Full time</td>\n      <td>Machine Learning Engineer</td>\n      <td>145885</td>\n      <td>USD</td>\n      <td>145885</td>\n      <td>US</td>\n      <td>0</td>\n      <td>US</td>\n      <td>Medium</td>\n    </tr>\n    <tr>\n      <th>97</th>\n      <td>2023</td>\n      <td>Senior</td>\n      <td>Full time</td>\n      <td>Data Engineer</td>\n      <td>217000</td>\n      <td>USD</td>\n      <td>217000</td>\n      <td>US</td>\n      <td>100</td>\n      <td>US</td>\n      <td>Medium</td>\n    </tr>\n    <tr>\n      <th>98</th>\n      <td>2023</td>\n      <td>Senior</td>\n      <td>Full time</td>\n      <td>Data Engineer</td>\n      <td>185000</td>\n      <td>USD</td>\n      <td>185000</td>\n      <td>US</td>\n      <td>100</td>\n      <td>US</td>\n      <td>Medium</td>\n    </tr>\n    <tr>\n      <th>99</th>\n      <td>2023</td>\n      <td>Senior</td>\n      <td>Full time</td>\n      <td>Data Analyst</td>\n      <td>202800</td>\n      <td>USD</td>\n      <td>202800</td>\n      <td>US</td>\n      <td>0</td>\n      <td>US</td>\n      <td>Large</td>\n    </tr>\n  </tbody>\n</table>\n<p>100 rows × 11 columns</p>\n</div>"
     },
     "execution_count": 16,
     "metadata": {},
     "output_type": "execute_result"
    }
   ],
   "source": [
    "df.head(100)"
   ],
   "metadata": {
    "collapsed": false
   }
  },
  {
   "cell_type": "code",
   "execution_count": null,
   "outputs": [],
   "source": [],
   "metadata": {
    "collapsed": false
   }
  }
 ],
 "metadata": {
  "kernelspec": {
   "display_name": "Python 3 (ipykernel)",
   "language": "python",
   "name": "python3"
  },
  "language_info": {
   "codemirror_mode": {
    "name": "ipython",
    "version": 3
   },
   "file_extension": ".py",
   "mimetype": "text/x-python",
   "name": "python",
   "nbconvert_exporter": "python",
   "pygments_lexer": "ipython3",
   "version": "3.11.2"
  }
 },
 "nbformat": 4,
 "nbformat_minor": 5
}
